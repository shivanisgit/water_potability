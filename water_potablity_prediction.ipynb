{
 "cells": [
  {
   "cell_type": "markdown",
   "id": "9c6e065f-1309-40b1-b368-51e00749ae34",
   "metadata": {},
   "source": [
    "# Water Potability\n",
    "\n",
    "![Water Potability](./images/pexels-photo-416528.jpeg)\n"
   ]
  },
  {
   "cell_type": "markdown",
   "id": "2f25f3e3-8be5-4754-abc0-0b04a220a25e",
   "metadata": {},
   "source": [
    "# Table of content\n",
    "##### 1.Import library\n",
    "##### 2.Exploratory data analysis\n",
    "##### 3.Data cleaning\n",
    "##### 4.Removing outilers\n",
    "##### 5.Spliting data and model buliding\n",
    "##### 6.predictive System"
   ]
  },
  {
   "cell_type": "markdown",
   "id": "bb19a2d6-5787-4062-b906-8a4a4dee239b",
   "metadata": {},
   "source": [
    "# 1.Import Libraries"
   ]
  },
  {
   "cell_type": "code",
   "execution_count": null,
   "id": "a8ffd05d-a31c-49e6-8b31-f24a8f5d5de1",
   "metadata": {},
   "outputs": [
    {
     "ename": "",
     "evalue": "",
     "output_type": "error",
     "traceback": [
      "\u001b[1;31mRunning cells with 'Python 3.11.9' requires the ipykernel package.\n",
      "\u001b[1;31mRun the following command to install 'ipykernel' into the Python environment. \n",
      "\u001b[1;31mCommand: 'c:/Users/Shivanikeshri/AppData/Local/Microsoft/WindowsApps/python3.11.exe -m pip install ipykernel -U --user --force-reinstall'"
     ]
    }
   ],
   "source": [
    "#Standard libraries for data analysis:----------------------\n",
    "\n",
    "import pandas as pd\n",
    "import numpy as np\n",
    "import seaborn as sns\n",
    "import matplotlib.pyplot as plt\n",
    "\n",
    "# modules for data preprocessing-------------------------------------\n",
    "from imblearn.over_sampling import SMOTE\n",
    "from sklearn.model_selection import train_test_split\n",
    "\n",
    "\n",
    "#sklearn modules for Model Selection--------------------------------------\n",
    "from sklearn.metrics import accuracy_score, classification_report, confusion_matrix\n",
    "from sklearn.linear_model import LogisticRegression\n",
    "from sklearn.tree import DecisionTreeClassifier\n",
    "from sklearn.ensemble import RandomForestClassifier\n",
    "from sklearn.neighbors import KNeighborsClassifier\n",
    "from sklearn.svm  import SVC\n",
    "from sklearn.ensemble import AdaBoostClassifier\n",
    "from xgboost import XGBClassifier"
   ]
  },
  {
   "cell_type": "code",
   "execution_count": null,
   "id": "40030416-89aa-4fba-b09f-e047eef0741b",
   "metadata": {},
   "outputs": [
    {
     "ename": "",
     "evalue": "",
     "output_type": "error",
     "traceback": [
      "\u001b[1;31mRunning cells with 'Python 3.11.9' requires the ipykernel package.\n",
      "\u001b[1;31mRun the following command to install 'ipykernel' into the Python environment. \n",
      "\u001b[1;31mCommand: 'c:/Users/Shivanikeshri/AppData/Local/Microsoft/WindowsApps/python3.11.exe -m pip install ipykernel -U --user --force-reinstall'"
     ]
    }
   ],
   "source": [
    "df = pd.read_csv(\"water_potability.csv\")"
   ]
  },
  {
   "cell_type": "code",
   "execution_count": null,
   "id": "cfec940e-2363-48ab-bd51-d60a271494e8",
   "metadata": {},
   "outputs": [
    {
     "ename": "",
     "evalue": "",
     "output_type": "error",
     "traceback": [
      "\u001b[1;31mRunning cells with 'Python 3.11.9' requires the ipykernel package.\n",
      "\u001b[1;31mRun the following command to install 'ipykernel' into the Python environment. \n",
      "\u001b[1;31mCommand: 'c:/Users/Shivanikeshri/AppData/Local/Microsoft/WindowsApps/python3.11.exe -m pip install ipykernel -U --user --force-reinstall'"
     ]
    }
   ],
   "source": [
    "df.head()"
   ]
  },
  {
   "cell_type": "code",
   "execution_count": null,
   "id": "1f8f8145-60e6-4ea3-8601-1b80831ba2a8",
   "metadata": {},
   "outputs": [
    {
     "ename": "",
     "evalue": "",
     "output_type": "error",
     "traceback": [
      "\u001b[1;31mRunning cells with 'Python 3.11.9' requires the ipykernel package.\n",
      "\u001b[1;31mRun the following command to install 'ipykernel' into the Python environment. \n",
      "\u001b[1;31mCommand: 'c:/Users/Shivanikeshri/AppData/Local/Microsoft/WindowsApps/python3.11.exe -m pip install ipykernel -U --user --force-reinstall'"
     ]
    }
   ],
   "source": [
    "df.columns"
   ]
  },
  {
   "cell_type": "markdown",
   "id": "4aafc3cf-b423-42b2-90b6-96c8c28e51fb",
   "metadata": {},
   "source": [
    "## About the dataset\n",
    "pH:\n",
    "\n",
    "It measures the acidity or alkalinity of the water. pH values range from 0 to 14, with 7 being neutral.\n",
    "\n",
    "Hardness:\n",
    "\n",
    "Unit: mg/L (milligrams per liter). \n",
    "It indicates the concentration of calcium and magnesium in the water. Higher values suggest harder water.\n",
    "\n",
    "Solids:\n",
    "\n",
    "Unit: ppm (parts per million). \n",
    "It represents the total concentration of dissolved and suspended solids in the water. Includes both dissolved solids (TDS) and suspended solids.\n",
    "\n",
    "Chloramines:\n",
    "\n",
    "Unit: ppm (parts per million). \n",
    "It measures the concentration of chloramines, which are disinfectants used to treat water.\n",
    "\n",
    "Sulfate:\n",
    "\n",
    "Unit: mg/L (milligrams per liter). \n",
    "It indicates the concentration of sulfate ions in the water. High levels can affect the taste and quality of water.\n",
    "\n",
    "Conductivity:\n",
    "\n",
    "Unit: µS/cm (microsiemens per centimeter). \n",
    "It measures the water’s ability to conduct electricity, which correlates with the ion concentration. Higher values indicate higher ionic content.\n",
    "\n",
    "Organic_carbon:\n",
    "\n",
    "Unit: ppm (parts per million).  \n",
    "It represents the concentration of organic carbon compounds in the water. Organic carbon levels can indicate the presence of organic pollutants.\n",
    "\n",
    "Trihalomethanes:\n",
    "\n",
    "Unit: µg/L (micrograms per liter). \n",
    "It measures the concentration of trihalomethanes, which are byproducts of water disinfection with chlorine. High levels can be harmful to health.\n",
    "\n",
    "Turbidity:\n",
    "\n",
    "Unit: NTU (Nephelometric Turbidity Units). \n",
    "It indicates the cloudiness of the water caused by large numbers of individual particles. Higher turbidity can be a sign of contaminants.\n",
    "\n",
    "Potability:\n",
    "\n",
    " Binary (0 or 1). \n",
    "It indicates whether the water is potable (safe to drink) or not. 0 represents non-potable, and 1 represents potable."
   ]
  },
  {
   "cell_type": "markdown",
   "id": "3c4aaae1-be0a-4e12-b924-cd59e7b8cc0f",
   "metadata": {},
   "source": [
    "# 2. Exploratory Data Analysis"
   ]
  },
  {
   "cell_type": "code",
   "execution_count": null,
   "id": "dea2bec3-0141-4c02-9c7e-9979a8146797",
   "metadata": {},
   "outputs": [
    {
     "ename": "",
     "evalue": "",
     "output_type": "error",
     "traceback": [
      "\u001b[1;31mRunning cells with 'Python 3.11.9' requires the ipykernel package.\n",
      "\u001b[1;31mRun the following command to install 'ipykernel' into the Python environment. \n",
      "\u001b[1;31mCommand: 'c:/Users/Shivanikeshri/AppData/Local/Microsoft/WindowsApps/python3.11.exe -m pip install ipykernel -U --user --force-reinstall'"
     ]
    }
   ],
   "source": [
    "df.info()"
   ]
  },
  {
   "cell_type": "markdown",
   "id": "e9462a6d-b29e-4d03-b145-8b1e049bd813",
   "metadata": {},
   "source": [
    "Portablity is the only integer data type"
   ]
  },
  {
   "cell_type": "code",
   "execution_count": null,
   "id": "1c9e9d36-9728-4cb3-ba43-cd65f9243eaa",
   "metadata": {},
   "outputs": [
    {
     "ename": "",
     "evalue": "",
     "output_type": "error",
     "traceback": [
      "\u001b[1;31mRunning cells with 'Python 3.11.9' requires the ipykernel package.\n",
      "\u001b[1;31mRun the following command to install 'ipykernel' into the Python environment. \n",
      "\u001b[1;31mCommand: 'c:/Users/Shivanikeshri/AppData/Local/Microsoft/WindowsApps/python3.11.exe -m pip install ipykernel -U --user --force-reinstall'"
     ]
    }
   ],
   "source": [
    "df.describe()"
   ]
  },
  {
   "cell_type": "code",
   "execution_count": null,
   "id": "55dbe092-08fa-484d-ae98-05dce692f579",
   "metadata": {},
   "outputs": [
    {
     "ename": "",
     "evalue": "",
     "output_type": "error",
     "traceback": [
      "\u001b[1;31mRunning cells with 'Python 3.11.9' requires the ipykernel package.\n",
      "\u001b[1;31mRun the following command to install 'ipykernel' into the Python environment. \n",
      "\u001b[1;31mCommand: 'c:/Users/Shivanikeshri/AppData/Local/Microsoft/WindowsApps/python3.11.exe -m pip install ipykernel -U --user --force-reinstall'"
     ]
    }
   ],
   "source": [
    "df.shape"
   ]
  },
  {
   "cell_type": "markdown",
   "id": "dceec1b1-3e3c-4c99-bb91-9d3a9c1fa4bd",
   "metadata": {},
   "source": [
    "#### check for correlation"
   ]
  },
  {
   "cell_type": "code",
   "execution_count": null,
   "id": "b9eeda70-2cf0-450a-bf95-6e2d333a60e1",
   "metadata": {},
   "outputs": [
    {
     "ename": "",
     "evalue": "",
     "output_type": "error",
     "traceback": [
      "\u001b[1;31mRunning cells with 'Python 3.11.9' requires the ipykernel package.\n",
      "\u001b[1;31mRun the following command to install 'ipykernel' into the Python environment. \n",
      "\u001b[1;31mCommand: 'c:/Users/Shivanikeshri/AppData/Local/Microsoft/WindowsApps/python3.11.exe -m pip install ipykernel -U --user --force-reinstall'"
     ]
    }
   ],
   "source": [
    "plt.figure(figsize = (12,8))\n",
    "sns.heatmap(df.corr(), annot = True)"
   ]
  },
  {
   "cell_type": "markdown",
   "id": "7e5fb7e0-fc6d-4124-bf4e-87edcb0388a9",
   "metadata": {},
   "source": [
    "All features seems to  have weak (low) correlation with potability and among them solids has highest correlation with potablity"
   ]
  },
  {
   "cell_type": "code",
   "execution_count": null,
   "id": "fc31a66c-bae8-4f33-ab62-6d94b4fbdb17",
   "metadata": {},
   "outputs": [
    {
     "ename": "",
     "evalue": "",
     "output_type": "error",
     "traceback": [
      "\u001b[1;31mRunning cells with 'Python 3.11.9' requires the ipykernel package.\n",
      "\u001b[1;31mRun the following command to install 'ipykernel' into the Python environment. \n",
      "\u001b[1;31mCommand: 'c:/Users/Shivanikeshri/AppData/Local/Microsoft/WindowsApps/python3.11.exe -m pip install ipykernel -U --user --force-reinstall'"
     ]
    }
   ],
   "source": [
    "# Check target feature\n",
    "\n",
    "sns.countplot(x='Potability', data= df, color='skyblue', edgecolor='black')"
   ]
  },
  {
   "cell_type": "markdown",
   "id": "c2a3548a-cbc0-4598-8e87-6d59c6ded65e",
   "metadata": {},
   "source": [
    "#### Imbalanced data"
   ]
  },
  {
   "cell_type": "code",
   "execution_count": null,
   "id": "4aed0416-b575-4c2e-8efc-2c3faf0fc8e2",
   "metadata": {},
   "outputs": [
    {
     "ename": "",
     "evalue": "",
     "output_type": "error",
     "traceback": [
      "\u001b[1;31mRunning cells with 'Python 3.11.9' requires the ipykernel package.\n",
      "\u001b[1;31mRun the following command to install 'ipykernel' into the Python environment. \n",
      "\u001b[1;31mCommand: 'c:/Users/Shivanikeshri/AppData/Local/Microsoft/WindowsApps/python3.11.exe -m pip install ipykernel -U --user --force-reinstall'"
     ]
    }
   ],
   "source": [
    "df['Potability'].value_counts()"
   ]
  },
  {
   "cell_type": "code",
   "execution_count": null,
   "id": "30e75f3b-940d-4cbf-a1bf-6286cff6fc39",
   "metadata": {},
   "outputs": [
    {
     "ename": "",
     "evalue": "",
     "output_type": "error",
     "traceback": [
      "\u001b[1;31mRunning cells with 'Python 3.11.9' requires the ipykernel package.\n",
      "\u001b[1;31mRun the following command to install 'ipykernel' into the Python environment. \n",
      "\u001b[1;31mCommand: 'c:/Users/Shivanikeshri/AppData/Local/Microsoft/WindowsApps/python3.11.exe -m pip install ipykernel -U --user --force-reinstall'"
     ]
    }
   ],
   "source": [
    "# Check distribution of each feature with Hist Plot\n",
    "\n",
    "plt.figure(figsize=(16,9))\n",
    "plt.subplots_adjust(wspace=0.3, hspace=0.3)\n",
    "\n",
    "\n",
    "# Loop through each column in the dataset\n",
    "o = 1\n",
    "for i, col in enumerate(df.columns):\n",
    "    plt.subplot(4, 4, o)\n",
    "    sns.histplot(data=df, x=col, kde=True, color='skyblue', edgecolor='black', bins=20)\n",
    "    plt.title(f'Distribution of {col}')\n",
    "    o += 1\n",
    "\n",
    "# Display the plots\n",
    "plt.tight_layout()\n",
    "plt.show()\n"
   ]
  },
  {
   "cell_type": "markdown",
   "id": "123cca99-ad3c-4322-b328-2941a49d40bf",
   "metadata": {},
   "source": [
    "generally speaking all feature are similar to  normal distribution except solid column which is right skewed"
   ]
  },
  {
   "cell_type": "code",
   "execution_count": null,
   "id": "6763496c-817f-491f-ac83-42efb527d287",
   "metadata": {},
   "outputs": [
    {
     "ename": "",
     "evalue": "",
     "output_type": "error",
     "traceback": [
      "\u001b[1;31mRunning cells with 'Python 3.11.9' requires the ipykernel package.\n",
      "\u001b[1;31mRun the following command to install 'ipykernel' into the Python environment. \n",
      "\u001b[1;31mCommand: 'c:/Users/Shivanikeshri/AppData/Local/Microsoft/WindowsApps/python3.11.exe -m pip install ipykernel -U --user --force-reinstall'"
     ]
    }
   ],
   "source": [
    "#visualising dataset and also checking for outliers\n",
    "\n",
    "fig, ax = plt.subplots(ncols = 5, nrows = 2, figsize = (16,9))\n",
    "ax = ax.flatten()\n",
    "index = 0\n",
    "for col,values in df.items():\n",
    "    sns.boxplot(y=col, data= df, ax= ax[index])\n",
    "    index += 1"
   ]
  },
  {
   "cell_type": "markdown",
   "id": "a25e7a0f-b39b-44f9-96ff-3fd07dd4a109",
   "metadata": {},
   "source": [
    "Non linear relationship"
   ]
  },
  {
   "cell_type": "markdown",
   "id": "00a28846-87de-40bb-9a63-8987bc9c42e2",
   "metadata": {},
   "source": [
    "# 3. Data cleaning"
   ]
  },
  {
   "cell_type": "code",
   "execution_count": null,
   "id": "8b5176fd-fa4a-4332-85a4-1c1fd4cbcb81",
   "metadata": {},
   "outputs": [
    {
     "ename": "",
     "evalue": "",
     "output_type": "error",
     "traceback": [
      "\u001b[1;31mRunning cells with 'Python 3.11.9' requires the ipykernel package.\n",
      "\u001b[1;31mRun the following command to install 'ipykernel' into the Python environment. \n",
      "\u001b[1;31mCommand: 'c:/Users/Shivanikeshri/AppData/Local/Microsoft/WindowsApps/python3.11.exe -m pip install ipykernel -U --user --force-reinstall'"
     ]
    }
   ],
   "source": [
    "df.isnull().sum()"
   ]
  },
  {
   "cell_type": "code",
   "execution_count": null,
   "id": "4fdd1929-1bb3-4398-bb1c-2b57cedc6315",
   "metadata": {},
   "outputs": [
    {
     "ename": "",
     "evalue": "",
     "output_type": "error",
     "traceback": [
      "\u001b[1;31mRunning cells with 'Python 3.11.9' requires the ipykernel package.\n",
      "\u001b[1;31mRun the following command to install 'ipykernel' into the Python environment. \n",
      "\u001b[1;31mCommand: 'c:/Users/Shivanikeshri/AppData/Local/Microsoft/WindowsApps/python3.11.exe -m pip install ipykernel -U --user --force-reinstall'"
     ]
    }
   ],
   "source": [
    "# Check ISNA sum\n",
    "isna_sum = df.isna().sum()\n",
    "plt.figure(figsize=(10, 5))\n",
    "sns.barplot(x=isna_sum.index, y=isna_sum.values, color='skyblue', edgecolor='black')\n",
    "plt.title('missing values by column')\n",
    "plt.xticks(rotation=45)\n",
    "plt.show()"
   ]
  },
  {
   "cell_type": "markdown",
   "id": "2ebde3f4-9e2d-4db9-93a5-7f933a3cf037",
   "metadata": {},
   "source": [
    "### Ph, Chioramines Sulphates, Organic_carbon contains null value\n"
   ]
  },
  {
   "cell_type": "code",
   "execution_count": null,
   "id": "9c8c0507-8485-4b5e-9190-11d100812c5d",
   "metadata": {},
   "outputs": [
    {
     "ename": "",
     "evalue": "",
     "output_type": "error",
     "traceback": [
      "\u001b[1;31mRunning cells with 'Python 3.11.9' requires the ipykernel package.\n",
      "\u001b[1;31mRun the following command to install 'ipykernel' into the Python environment. \n",
      "\u001b[1;31mCommand: 'c:/Users/Shivanikeshri/AppData/Local/Microsoft/WindowsApps/python3.11.exe -m pip install ipykernel -U --user --force-reinstall'"
     ]
    }
   ],
   "source": [
    "# filling missing values\n",
    "df['ph'] = df['ph'].fillna(df['ph'].mean())\n",
    "df['Sulfate'] = df['Sulfate'].fillna(df['Sulfate'].mean())\n",
    "df['Trihalomethanes'] = df[\"Trihalomethanes\"].fillna(df[\"Trihalomethanes\"].mean())"
   ]
  },
  {
   "cell_type": "code",
   "execution_count": null,
   "id": "8993d052-d04c-4acf-b4ff-668fa129597f",
   "metadata": {},
   "outputs": [
    {
     "ename": "",
     "evalue": "",
     "output_type": "error",
     "traceback": [
      "\u001b[1;31mRunning cells with 'Python 3.11.9' requires the ipykernel package.\n",
      "\u001b[1;31mRun the following command to install 'ipykernel' into the Python environment. \n",
      "\u001b[1;31mCommand: 'c:/Users/Shivanikeshri/AppData/Local/Microsoft/WindowsApps/python3.11.exe -m pip install ipykernel -U --user --force-reinstall'"
     ]
    }
   ],
   "source": [
    "df.isnull().sum()"
   ]
  },
  {
   "cell_type": "code",
   "execution_count": null,
   "id": "df55cb96-4221-4f6a-8ab5-0314fa3bf0d0",
   "metadata": {},
   "outputs": [
    {
     "ename": "",
     "evalue": "",
     "output_type": "error",
     "traceback": [
      "\u001b[1;31mRunning cells with 'Python 3.11.9' requires the ipykernel package.\n",
      "\u001b[1;31mRun the following command to install 'ipykernel' into the Python environment. \n",
      "\u001b[1;31mCommand: 'c:/Users/Shivanikeshri/AppData/Local/Microsoft/WindowsApps/python3.11.exe -m pip install ipykernel -U --user --force-reinstall'"
     ]
    }
   ],
   "source": [
    "df.duplicated().sum()"
   ]
  },
  {
   "cell_type": "markdown",
   "id": "e65859cf-7616-487e-bac3-49a48df736b9",
   "metadata": {},
   "source": [
    "# 4. Removing Outliers"
   ]
  },
  {
   "cell_type": "markdown",
   "id": "afe10141-5f17-4a73-bc5b-6af6caa24960",
   "metadata": {},
   "source": [
    "Below Converts Decimal Value to Int64 with Rounding Each value its nearest value eg: 3.9 to 4"
   ]
  },
  {
   "cell_type": "code",
   "execution_count": null,
   "id": "322520fe-c653-4559-8f1d-c0f522fc4b2e",
   "metadata": {},
   "outputs": [
    {
     "ename": "",
     "evalue": "",
     "output_type": "error",
     "traceback": [
      "\u001b[1;31mRunning cells with 'Python 3.11.9' requires the ipykernel package.\n",
      "\u001b[1;31mRun the following command to install 'ipykernel' into the Python environment. \n",
      "\u001b[1;31mCommand: 'c:/Users/Shivanikeshri/AppData/Local/Microsoft/WindowsApps/python3.11.exe -m pip install ipykernel -U --user --force-reinstall'"
     ]
    }
   ],
   "source": [
    "for cols in df.columns: \n",
    "    if cols!=\"Potability\":\n",
    "        df[cols] = df[cols].round().astype('int64')\n",
    "\n",
    "df.head(5)"
   ]
  },
  {
   "cell_type": "markdown",
   "id": "b22263fc-d7ae-4cf3-a83e-e5c82745432f",
   "metadata": {},
   "source": [
    "Below Is the Code Remove SPECIFIC Outliers Values from Main Dataframe"
   ]
  },
  {
   "cell_type": "code",
   "execution_count": null,
   "id": "5d6ddb48-8b72-4b82-825d-7ed9dc7fc05b",
   "metadata": {},
   "outputs": [
    {
     "ename": "",
     "evalue": "",
     "output_type": "error",
     "traceback": [
      "\u001b[1;31mRunning cells with 'Python 3.11.9' requires the ipykernel package.\n",
      "\u001b[1;31mRun the following command to install 'ipykernel' into the Python environment. \n",
      "\u001b[1;31mCommand: 'c:/Users/Shivanikeshri/AppData/Local/Microsoft/WindowsApps/python3.11.exe -m pip install ipykernel -U --user --force-reinstall'"
     ]
    }
   ],
   "source": [
    "# finding outliers data\n",
    "Q1 = df['Hardness'].quantile(0.25)\n",
    "Q3 = df['Hardness'].quantile(0.75)\n",
    "IQR = Q3-Q1\n",
    "# identify outliers\n",
    "lower_bound = Q1 - 1.5*IQR\n",
    "upper_bound = Q3 + 1.5*IQR\n",
    "\n",
    "outliers = df[(df['Hardness']<lower_bound) | (df['Hardness']>upper_bound)]\n",
    "values_out_of_range = df[(df['Hardness']<Q1) | (df['Hardness']>Q3)]\n",
    "outliers_df = pd.DataFrame(outliers)\n",
    "\n",
    "df = df.drop(outliers_df.index)\n",
    "df.head(4)"
   ]
  },
  {
   "cell_type": "code",
   "execution_count": null,
   "id": "84779082-6194-446f-9e77-b818903b59f4",
   "metadata": {},
   "outputs": [
    {
     "ename": "",
     "evalue": "",
     "output_type": "error",
     "traceback": [
      "\u001b[1;31mRunning cells with 'Python 3.11.9' requires the ipykernel package.\n",
      "\u001b[1;31mRun the following command to install 'ipykernel' into the Python environment. \n",
      "\u001b[1;31mCommand: 'c:/Users/Shivanikeshri/AppData/Local/Microsoft/WindowsApps/python3.11.exe -m pip install ipykernel -U --user --force-reinstall'"
     ]
    }
   ],
   "source": [
    "# finding outliers data\n",
    "Q1 = df['Trihalomethanes'].quantile(0.25)\n",
    "Q3 = df['Trihalomethanes'].quantile(0.75)\n",
    "IQR = Q3-Q1\n",
    "# identify outliers\n",
    "lower_bound = Q1 - 1.5*IQR\n",
    "upper_bound = Q3 + 1.5*IQR\n",
    "\n",
    "outliers = df[(df['Trihalomethanes']<lower_bound) | (df['Trihalomethanes']>upper_bound)]\n",
    "values_out_of_range = df[(df['Trihalomethanes']<Q1) | (df['Trihalomethanes']>Q3)]\n",
    "outliers_df = pd.DataFrame(outliers)\n",
    "\n",
    "df = df.drop(outliers_df.index)\n",
    "df.head(4)\n"
   ]
  },
  {
   "cell_type": "code",
   "execution_count": null,
   "id": "a8db7911-2650-42d7-96c7-039955e5cdf7",
   "metadata": {},
   "outputs": [
    {
     "ename": "",
     "evalue": "",
     "output_type": "error",
     "traceback": [
      "\u001b[1;31mRunning cells with 'Python 3.11.9' requires the ipykernel package.\n",
      "\u001b[1;31mRun the following command to install 'ipykernel' into the Python environment. \n",
      "\u001b[1;31mCommand: 'c:/Users/Shivanikeshri/AppData/Local/Microsoft/WindowsApps/python3.11.exe -m pip install ipykernel -U --user --force-reinstall'"
     ]
    }
   ],
   "source": [
    "# finding outliers data\n",
    "Q1 = df['Solids'].quantile(0.25)\n",
    "Q3 = df['Solids'].quantile(0.75)\n",
    "IQR = Q3-Q1\n",
    "# identify outliers\n",
    "lower_bound = Q1 - 1.5*IQR\n",
    "upper_bound = Q3 + 1.5*IQR\n",
    "\n",
    "outliers = df[(df['Solids']<lower_bound) | (df['Solids']>upper_bound)]\n",
    "values_out_of_range = df[(df['Solids']<Q1) | (df['Solids']>Q3)]\n",
    "outliers_df = pd.DataFrame(outliers)\n",
    "\n",
    "df = df.drop(outliers_df.index)\n",
    "df.head(4)"
   ]
  },
  {
   "cell_type": "code",
   "execution_count": null,
   "id": "11a90778-2964-489d-9b97-44ae28eb5602",
   "metadata": {},
   "outputs": [
    {
     "ename": "",
     "evalue": "",
     "output_type": "error",
     "traceback": [
      "\u001b[1;31mRunning cells with 'Python 3.11.9' requires the ipykernel package.\n",
      "\u001b[1;31mRun the following command to install 'ipykernel' into the Python environment. \n",
      "\u001b[1;31mCommand: 'c:/Users/Shivanikeshri/AppData/Local/Microsoft/WindowsApps/python3.11.exe -m pip install ipykernel -U --user --force-reinstall'"
     ]
    }
   ],
   "source": [
    "# finding outliers data\n",
    "Q1 = df['Sulfate'].quantile(0.25)\n",
    "Q3 = df['Sulfate'].quantile(0.75)\n",
    "IQR = Q3-Q1\n",
    "# identify outliers\n",
    "lower_bound = Q1 - 1.5*IQR\n",
    "upper_bound = Q3 + 1.5*IQR\n",
    "\n",
    "outliers = df[(df['Sulfate']<lower_bound) | (df['Sulfate']>upper_bound)]\n",
    "values_out_of_range = df[(df['Sulfate']<Q1) | (df['Sulfate']>Q3)]\n",
    "outliers_df = pd.DataFrame(outliers)\n",
    "\n",
    "df = df.drop(outliers_df.index)\n",
    "df.head(4)"
   ]
  },
  {
   "cell_type": "code",
   "execution_count": null,
   "id": "e055a9e4-08e3-4232-a26c-9912c4e3ae2b",
   "metadata": {},
   "outputs": [
    {
     "ename": "",
     "evalue": "",
     "output_type": "error",
     "traceback": [
      "\u001b[1;31mRunning cells with 'Python 3.11.9' requires the ipykernel package.\n",
      "\u001b[1;31mRun the following command to install 'ipykernel' into the Python environment. \n",
      "\u001b[1;31mCommand: 'c:/Users/Shivanikeshri/AppData/Local/Microsoft/WindowsApps/python3.11.exe -m pip install ipykernel -U --user --force-reinstall'"
     ]
    }
   ],
   "source": [
    "# finding outliers data\n",
    "Q1 = df['Chloramines'].quantile(0.25)\n",
    "Q3 = df['Chloramines'].quantile(0.75)\n",
    "IQR = Q3-Q1\n",
    "# identify outliers\n",
    "lower_bound = Q1 - 1.5*IQR\n",
    "upper_bound = Q3 + 1.5*IQR\n",
    "\n",
    "outliers = df[(df['Chloramines']<lower_bound) | (df['Chloramines']>upper_bound)]\n",
    "values_out_of_range = df[(df['Chloramines']<Q1) | (df['Chloramines']>Q3)]\n",
    "outliers_df = pd.DataFrame(outliers)\n",
    "\n",
    "df = df.drop(outliers_df.index)\n",
    "df.head(4)"
   ]
  },
  {
   "cell_type": "code",
   "execution_count": null,
   "id": "6ce803cb-1e14-43cb-9e57-0c25c94ebab5",
   "metadata": {},
   "outputs": [
    {
     "ename": "",
     "evalue": "",
     "output_type": "error",
     "traceback": [
      "\u001b[1;31mRunning cells with 'Python 3.11.9' requires the ipykernel package.\n",
      "\u001b[1;31mRun the following command to install 'ipykernel' into the Python environment. \n",
      "\u001b[1;31mCommand: 'c:/Users/Shivanikeshri/AppData/Local/Microsoft/WindowsApps/python3.11.exe -m pip install ipykernel -U --user --force-reinstall'"
     ]
    }
   ],
   "source": [
    "fig, ax = plt.subplots(ncols = 5, nrows = 2, figsize = (16,9))\n",
    "ax = ax.flatten()\n",
    "index = 0\n",
    "for col,values in df.items():\n",
    "    sns.boxplot(y=col, data= df, ax= ax[index])\n",
    "    index += 1"
   ]
  },
  {
   "cell_type": "markdown",
   "id": "512053d8-2759-4099-bf75-a4702de038d5",
   "metadata": {},
   "source": [
    "Cleared all Outliers from Features : Hardness,Trihalomethanes and Solids"
   ]
  },
  {
   "cell_type": "code",
   "execution_count": null,
   "id": "d7d4a7a9-632b-4fc5-bc0a-d0c5c3de601f",
   "metadata": {},
   "outputs": [
    {
     "ename": "",
     "evalue": "",
     "output_type": "error",
     "traceback": [
      "\u001b[1;31mRunning cells with 'Python 3.11.9' requires the ipykernel package.\n",
      "\u001b[1;31mRun the following command to install 'ipykernel' into the Python environment. \n",
      "\u001b[1;31mCommand: 'c:/Users/Shivanikeshri/AppData/Local/Microsoft/WindowsApps/python3.11.exe -m pip install ipykernel -U --user --force-reinstall'"
     ]
    }
   ],
   "source": [
    "df.shape"
   ]
  },
  {
   "cell_type": "markdown",
   "id": "41116a6e-84f5-49fb-b6fa-d6d38e34197c",
   "metadata": {
    "tags": []
   },
   "source": [
    "# 5.Spliting data and model buliding"
   ]
  },
  {
   "cell_type": "code",
   "execution_count": null,
   "id": "089b5e0b-f81f-4156-9879-128cad343963",
   "metadata": {},
   "outputs": [
    {
     "ename": "",
     "evalue": "",
     "output_type": "error",
     "traceback": [
      "\u001b[1;31mRunning cells with 'Python 3.11.9' requires the ipykernel package.\n",
      "\u001b[1;31mRun the following command to install 'ipykernel' into the Python environment. \n",
      "\u001b[1;31mCommand: 'c:/Users/Shivanikeshri/AppData/Local/Microsoft/WindowsApps/python3.11.exe -m pip install ipykernel -U --user --force-reinstall'"
     ]
    }
   ],
   "source": [
    "X = df.drop('Potability', axis = 1)\n",
    "y = df['Potability'] "
   ]
  },
  {
   "cell_type": "code",
   "execution_count": null,
   "id": "826ec0d0-2bce-4123-8554-e69ca27d6acc",
   "metadata": {},
   "outputs": [
    {
     "ename": "",
     "evalue": "",
     "output_type": "error",
     "traceback": [
      "\u001b[1;31mRunning cells with 'Python 3.11.9' requires the ipykernel package.\n",
      "\u001b[1;31mRun the following command to install 'ipykernel' into the Python environment. \n",
      "\u001b[1;31mCommand: 'c:/Users/Shivanikeshri/AppData/Local/Microsoft/WindowsApps/python3.11.exe -m pip install ipykernel -U --user --force-reinstall'"
     ]
    }
   ],
   "source": [
    "y.value_counts()\n"
   ]
  },
  {
   "cell_type": "markdown",
   "id": "c03e0f67-e503-4789-978e-ed1a6839907d",
   "metadata": {},
   "source": [
    "#### Handling imbalance data"
   ]
  },
  {
   "cell_type": "markdown",
   "id": "6bb0846a-9dae-4edc-a7a3-76758749fa3f",
   "metadata": {},
   "source": [
    "SMOTE (Synthetic Minority Over-sampling Technique)¶\n",
    "SMOTE : SMOTE is an data balancing technique used during binary classification. It tackles imbalance data problem by generating synthetic samples for minority class.\n",
    "\n",
    "So here our minority class is value : 1"
   ]
  },
  {
   "cell_type": "code",
   "execution_count": null,
   "id": "dfb854a1-3322-49ce-9fb5-2c06569980a9",
   "metadata": {},
   "outputs": [
    {
     "ename": "",
     "evalue": "",
     "output_type": "error",
     "traceback": [
      "\u001b[1;31mRunning cells with 'Python 3.11.9' requires the ipykernel package.\n",
      "\u001b[1;31mRun the following command to install 'ipykernel' into the Python environment. \n",
      "\u001b[1;31mCommand: 'c:/Users/Shivanikeshri/AppData/Local/Microsoft/WindowsApps/python3.11.exe -m pip install ipykernel -U --user --force-reinstall'"
     ]
    }
   ],
   "source": [
    "\n",
    "\n",
    "sm = SMOTE(random_state=42)\n",
    "\n",
    "# Fit and apply the transform\n",
    "X_resampled, y_resampled = sm.fit_resample(X, y)"
   ]
  },
  {
   "cell_type": "code",
   "execution_count": null,
   "id": "3ddb2f1e-30fe-4b77-8b36-3cb14c585888",
   "metadata": {},
   "outputs": [
    {
     "ename": "",
     "evalue": "",
     "output_type": "error",
     "traceback": [
      "\u001b[1;31mRunning cells with 'Python 3.11.9' requires the ipykernel package.\n",
      "\u001b[1;31mRun the following command to install 'ipykernel' into the Python environment. \n",
      "\u001b[1;31mCommand: 'c:/Users/Shivanikeshri/AppData/Local/Microsoft/WindowsApps/python3.11.exe -m pip install ipykernel -U --user --force-reinstall'"
     ]
    }
   ],
   "source": [
    "y_resampled.value_counts()"
   ]
  },
  {
   "cell_type": "markdown",
   "id": "f2a8f14a-284a-46b5-b7c7-25b6bce3c904",
   "metadata": {},
   "source": [
    "#### Training and testing Dataset"
   ]
  },
  {
   "cell_type": "code",
   "execution_count": null,
   "id": "5b4ce0b9-588d-408c-8bbf-fdc3b1019d96",
   "metadata": {},
   "outputs": [
    {
     "ename": "",
     "evalue": "",
     "output_type": "error",
     "traceback": [
      "\u001b[1;31mRunning cells with 'Python 3.11.9' requires the ipykernel package.\n",
      "\u001b[1;31mRun the following command to install 'ipykernel' into the Python environment. \n",
      "\u001b[1;31mCommand: 'c:/Users/Shivanikeshri/AppData/Local/Microsoft/WindowsApps/python3.11.exe -m pip install ipykernel -U --user --force-reinstall'"
     ]
    }
   ],
   "source": [
    "\n",
    "X_train, X_test, y_train, y_test = train_test_split(X_resampled, y_resampled, test_size = 0.2)"
   ]
  },
  {
   "cell_type": "code",
   "execution_count": null,
   "id": "316ad8ae-27b0-4305-b318-451d7862a440",
   "metadata": {},
   "outputs": [
    {
     "ename": "",
     "evalue": "",
     "output_type": "error",
     "traceback": [
      "\u001b[1;31mRunning cells with 'Python 3.11.9' requires the ipykernel package.\n",
      "\u001b[1;31mRun the following command to install 'ipykernel' into the Python environment. \n",
      "\u001b[1;31mCommand: 'c:/Users/Shivanikeshri/AppData/Local/Microsoft/WindowsApps/python3.11.exe -m pip install ipykernel -U --user --force-reinstall'"
     ]
    }
   ],
   "source": [
    "X_train.shape, X_test.shape"
   ]
  },
  {
   "cell_type": "markdown",
   "id": "6d5a6d2e-086e-41ea-9223-07e614ae6c88",
   "metadata": {},
   "source": [
    "### Logistic Regression"
   ]
  },
  {
   "cell_type": "code",
   "execution_count": null,
   "id": "ed187100-b5eb-4d55-834e-4505dd593f77",
   "metadata": {},
   "outputs": [
    {
     "ename": "",
     "evalue": "",
     "output_type": "error",
     "traceback": [
      "\u001b[1;31mRunning cells with 'Python 3.11.9' requires the ipykernel package.\n",
      "\u001b[1;31mRun the following command to install 'ipykernel' into the Python environment. \n",
      "\u001b[1;31mCommand: 'c:/Users/Shivanikeshri/AppData/Local/Microsoft/WindowsApps/python3.11.exe -m pip install ipykernel -U --user --force-reinstall'"
     ]
    }
   ],
   "source": [
    "# creating the object of model and training the model\n",
    "model_lr = LogisticRegression()\n",
    "model_lr.fit(X_train, y_train)"
   ]
  },
  {
   "cell_type": "code",
   "execution_count": null,
   "id": "32af5cc3-5bcf-4b87-9dd9-af627ddfa79f",
   "metadata": {},
   "outputs": [
    {
     "ename": "",
     "evalue": "",
     "output_type": "error",
     "traceback": [
      "\u001b[1;31mRunning cells with 'Python 3.11.9' requires the ipykernel package.\n",
      "\u001b[1;31mRun the following command to install 'ipykernel' into the Python environment. \n",
      "\u001b[1;31mCommand: 'c:/Users/Shivanikeshri/AppData/Local/Microsoft/WindowsApps/python3.11.exe -m pip install ipykernel -U --user --force-reinstall'"
     ]
    }
   ],
   "source": [
    "#prediction\n",
    "pred_lr = model_lr.predict(X_test)\n",
    "accuracy_lr =accuracy_score(y_test,pred_lr)\n",
    "print('accuracy_score =', accuracy_lr)\n",
    "print('confusion_matrix =\\n',confusion_matrix(y_test, pred_lr))\n",
    "print('classification_report =\\n', classification_report(y_test, pred_lr))\n"
   ]
  },
  {
   "cell_type": "markdown",
   "id": "ca724db5-8629-44d8-8184-842963a874cb",
   "metadata": {},
   "source": [
    "### Decision Tree Classifier"
   ]
  },
  {
   "cell_type": "code",
   "execution_count": null,
   "id": "09e3cc8b-e957-44bd-8bd0-46d883849407",
   "metadata": {},
   "outputs": [
    {
     "ename": "",
     "evalue": "",
     "output_type": "error",
     "traceback": [
      "\u001b[1;31mRunning cells with 'Python 3.11.9' requires the ipykernel package.\n",
      "\u001b[1;31mRun the following command to install 'ipykernel' into the Python environment. \n",
      "\u001b[1;31mCommand: 'c:/Users/Shivanikeshri/AppData/Local/Microsoft/WindowsApps/python3.11.exe -m pip install ipykernel -U --user --force-reinstall'"
     ]
    }
   ],
   "source": [
    "# creating the object of model and training the model\n",
    "\n",
    "model_dt = DecisionTreeClassifier(max_depth = 4)\n",
    "model_dt.fit(X_train, y_train)"
   ]
  },
  {
   "cell_type": "code",
   "execution_count": null,
   "id": "dcd9d8dd-41ca-4e31-8814-234b20b0b52e",
   "metadata": {},
   "outputs": [
    {
     "ename": "",
     "evalue": "",
     "output_type": "error",
     "traceback": [
      "\u001b[1;31mRunning cells with 'Python 3.11.9' requires the ipykernel package.\n",
      "\u001b[1;31mRun the following command to install 'ipykernel' into the Python environment. \n",
      "\u001b[1;31mCommand: 'c:/Users/Shivanikeshri/AppData/Local/Microsoft/WindowsApps/python3.11.exe -m pip install ipykernel -U --user --force-reinstall'"
     ]
    }
   ],
   "source": [
    "#prediction\n",
    "pred_dt = model_dt.predict(X_test)\n",
    "accuracy_dt =accuracy_score(y_test,pred_dt)\n",
    "print('accuracy_score =', accuracy_dt)\n",
    "print('confusion_matrix =\\n',confusion_matrix(y_test, pred_dt))\n",
    "print('classification_report =\\n', classification_report(y_test, pred_dt))\n"
   ]
  },
  {
   "cell_type": "markdown",
   "id": "8a06c9e7-e237-4e81-89d1-b6ce60a7a2f9",
   "metadata": {},
   "source": [
    "### Random Forest Classifiers"
   ]
  },
  {
   "cell_type": "code",
   "execution_count": null,
   "id": "a6459ec1-4061-457b-aea9-b4baf72380f8",
   "metadata": {},
   "outputs": [
    {
     "ename": "",
     "evalue": "",
     "output_type": "error",
     "traceback": [
      "\u001b[1;31mRunning cells with 'Python 3.11.9' requires the ipykernel package.\n",
      "\u001b[1;31mRun the following command to install 'ipykernel' into the Python environment. \n",
      "\u001b[1;31mCommand: 'c:/Users/Shivanikeshri/AppData/Local/Microsoft/WindowsApps/python3.11.exe -m pip install ipykernel -U --user --force-reinstall'"
     ]
    }
   ],
   "source": [
    "# creating the object of model and training the model\n",
    "\n",
    "model_rf = RandomForestClassifier()\n",
    "model_rf.fit(X_train,y_train)"
   ]
  },
  {
   "cell_type": "code",
   "execution_count": null,
   "id": "b3db4649-8bea-49a5-aa53-0c59b223b4c6",
   "metadata": {},
   "outputs": [
    {
     "ename": "",
     "evalue": "",
     "output_type": "error",
     "traceback": [
      "\u001b[1;31mRunning cells with 'Python 3.11.9' requires the ipykernel package.\n",
      "\u001b[1;31mRun the following command to install 'ipykernel' into the Python environment. \n",
      "\u001b[1;31mCommand: 'c:/Users/Shivanikeshri/AppData/Local/Microsoft/WindowsApps/python3.11.exe -m pip install ipykernel -U --user --force-reinstall'"
     ]
    }
   ],
   "source": [
    "#prediction\n",
    "\n",
    "pred_rf = model_rf.predict(X_test)\n",
    "accuracy_rf =accuracy_score(y_test,pred_rf)\n",
    "print('accuracy_score =', accuracy_rf)\n",
    "print('confusion_matrix =\\n',confusion_matrix(y_test, pred_rf))\n",
    "print('classification_report =\\n', classification_report(y_test, pred_rf))\n"
   ]
  },
  {
   "cell_type": "markdown",
   "id": "c00a8837-7f32-489f-be19-ecdd1b672865",
   "metadata": {},
   "source": [
    "### KNeighbors Classifiers"
   ]
  },
  {
   "cell_type": "code",
   "execution_count": null,
   "id": "3ab5da01-4e7e-4ed7-ad18-97a0a6e5c8aa",
   "metadata": {},
   "outputs": [
    {
     "ename": "",
     "evalue": "",
     "output_type": "error",
     "traceback": [
      "\u001b[1;31mRunning cells with 'Python 3.11.9' requires the ipykernel package.\n",
      "\u001b[1;31mRun the following command to install 'ipykernel' into the Python environment. \n",
      "\u001b[1;31mCommand: 'c:/Users/Shivanikeshri/AppData/Local/Microsoft/WindowsApps/python3.11.exe -m pip install ipykernel -U --user --force-reinstall'"
     ]
    }
   ],
   "source": [
    "#training and predicting the model\n",
    "for i in range(4,12):\n",
    "    model_knn = KNeighborsClassifier(n_neighbors = i)\n",
    "    model_knn.fit(X_train, y_train)\n",
    "    pred_knn = model_knn.predict(X_test)\n",
    "    print('accuracy =',accuracy_score(y_test,pred_knn), 'i =' ,i)"
   ]
  },
  {
   "cell_type": "code",
   "execution_count": null,
   "id": "17041353-2585-4452-9d1a-f9ca4e3512b3",
   "metadata": {},
   "outputs": [
    {
     "ename": "",
     "evalue": "",
     "output_type": "error",
     "traceback": [
      "\u001b[1;31mRunning cells with 'Python 3.11.9' requires the ipykernel package.\n",
      "\u001b[1;31mRun the following command to install 'ipykernel' into the Python environment. \n",
      "\u001b[1;31mCommand: 'c:/Users/Shivanikeshri/AppData/Local/Microsoft/WindowsApps/python3.11.exe -m pip install ipykernel -U --user --force-reinstall'"
     ]
    }
   ],
   "source": [
    "model_knn = KNeighborsClassifier(n_neighbors = 4)\n",
    "model_knn.fit(X_train, y_train)\n",
    "pred_knn = model_knn.predict(X_test)\n",
    "accuracy_knn =accuracy_score(y_test,pred_knn)\n",
    "print('accuracy_score =', accuracy_knn)\n",
    "print('confusion_matrix =\\n',confusion_matrix(y_test, pred_knn))\n",
    "print('classification_report =\\n', classification_report(y_test, pred_knn))\n"
   ]
  },
  {
   "cell_type": "markdown",
   "id": "91dc5520-238e-46cd-87e1-d7d96567bf45",
   "metadata": {},
   "source": [
    "### Support Vector Machine"
   ]
  },
  {
   "cell_type": "code",
   "execution_count": null,
   "id": "c82843a5-c773-4081-b0a3-3155908b5b7e",
   "metadata": {},
   "outputs": [
    {
     "ename": "",
     "evalue": "",
     "output_type": "error",
     "traceback": [
      "\u001b[1;31mRunning cells with 'Python 3.11.9' requires the ipykernel package.\n",
      "\u001b[1;31mRun the following command to install 'ipykernel' into the Python environment. \n",
      "\u001b[1;31mCommand: 'c:/Users/Shivanikeshri/AppData/Local/Microsoft/WindowsApps/python3.11.exe -m pip install ipykernel -U --user --force-reinstall'"
     ]
    }
   ],
   "source": [
    "# creating the object of model and training the model\n",
    "model_svc = SVC(kernel = \"rbf\")\n",
    "model_svc.fit(X_train, y_train)"
   ]
  },
  {
   "cell_type": "code",
   "execution_count": null,
   "id": "d6553f32-c321-427e-aef8-8f78f7547a51",
   "metadata": {},
   "outputs": [
    {
     "ename": "",
     "evalue": "",
     "output_type": "error",
     "traceback": [
      "\u001b[1;31mRunning cells with 'Python 3.11.9' requires the ipykernel package.\n",
      "\u001b[1;31mRun the following command to install 'ipykernel' into the Python environment. \n",
      "\u001b[1;31mCommand: 'c:/Users/Shivanikeshri/AppData/Local/Microsoft/WindowsApps/python3.11.exe -m pip install ipykernel -U --user --force-reinstall'"
     ]
    }
   ],
   "source": [
    "#prediction\n",
    "pred_svc = model_svc.predict(X_test)\n",
    "accuracy_svc =accuracy_score(y_test,pred_svc)\n",
    "print('accuracy_score =', accuracy_svc)\n",
    "print('confusion_matrix =\\n',confusion_matrix(y_test, pred_svc))\n",
    "print('classification_report =\\n', classification_report(y_test, pred_svc))\n"
   ]
  },
  {
   "cell_type": "markdown",
   "id": "62fc1021-bc60-477d-9ddd-689307631d29",
   "metadata": {},
   "source": [
    "### Adaboost Classifiers"
   ]
  },
  {
   "cell_type": "code",
   "execution_count": null,
   "id": "f96e838d-2fb6-4497-8faf-1aba04e3cf04",
   "metadata": {},
   "outputs": [
    {
     "ename": "",
     "evalue": "",
     "output_type": "error",
     "traceback": [
      "\u001b[1;31mRunning cells with 'Python 3.11.9' requires the ipykernel package.\n",
      "\u001b[1;31mRun the following command to install 'ipykernel' into the Python environment. \n",
      "\u001b[1;31mCommand: 'c:/Users/Shivanikeshri/AppData/Local/Microsoft/WindowsApps/python3.11.exe -m pip install ipykernel -U --user --force-reinstall'"
     ]
    }
   ],
   "source": [
    "# creating the object of model and training the model\n",
    "model_adb = AdaBoostClassifier(n_estimators = 100)\n",
    "model_adb.fit(X_train,y_train)"
   ]
  },
  {
   "cell_type": "code",
   "execution_count": null,
   "id": "ba76f08a-7e03-4175-af7d-babd9d05455e",
   "metadata": {},
   "outputs": [
    {
     "ename": "",
     "evalue": "",
     "output_type": "error",
     "traceback": [
      "\u001b[1;31mRunning cells with 'Python 3.11.9' requires the ipykernel package.\n",
      "\u001b[1;31mRun the following command to install 'ipykernel' into the Python environment. \n",
      "\u001b[1;31mCommand: 'c:/Users/Shivanikeshri/AppData/Local/Microsoft/WindowsApps/python3.11.exe -m pip install ipykernel -U --user --force-reinstall'"
     ]
    }
   ],
   "source": [
    "#prediction\n",
    "pred_adb = model_adb.predict(X_test)\n",
    "accuracy_adb =accuracy_score(y_test,pred_adb)\n",
    "print('accuracy_score =', accuracy_adb)\n",
    "print('confusion_matrix =\\n',confusion_matrix(y_test, pred_adb))\n",
    "print('classification_report =\\n', classification_report(y_test, pred_adb))\n"
   ]
  },
  {
   "cell_type": "markdown",
   "id": "3711380f-00b9-4cef-89a5-cd9ad6feba65",
   "metadata": {},
   "source": [
    "### XGBOOST Classifier"
   ]
  },
  {
   "cell_type": "code",
   "execution_count": null,
   "id": "29200985-7a85-42cc-a364-2fa9cd23be54",
   "metadata": {},
   "outputs": [
    {
     "ename": "",
     "evalue": "",
     "output_type": "error",
     "traceback": [
      "\u001b[1;31mRunning cells with 'Python 3.11.9' requires the ipykernel package.\n",
      "\u001b[1;31mRun the following command to install 'ipykernel' into the Python environment. \n",
      "\u001b[1;31mCommand: 'c:/Users/Shivanikeshri/AppData/Local/Microsoft/WindowsApps/python3.11.exe -m pip install ipykernel -U --user --force-reinstall'"
     ]
    }
   ],
   "source": [
    "# creating the object of model and training the model\n",
    "model_xgb = XGBClassifier(n_estimators = 200, learning_rate = 0.03)\n",
    "model_xgb.fit(X_train, y_train)"
   ]
  },
  {
   "cell_type": "code",
   "execution_count": null,
   "id": "e0bb4014-2ec2-47ed-8b25-8b3bdb7a51d7",
   "metadata": {},
   "outputs": [
    {
     "ename": "",
     "evalue": "",
     "output_type": "error",
     "traceback": [
      "\u001b[1;31mRunning cells with 'Python 3.11.9' requires the ipykernel package.\n",
      "\u001b[1;31mRun the following command to install 'ipykernel' into the Python environment. \n",
      "\u001b[1;31mCommand: 'c:/Users/Shivanikeshri/AppData/Local/Microsoft/WindowsApps/python3.11.exe -m pip install ipykernel -U --user --force-reinstall'"
     ]
    }
   ],
   "source": [
    "#prediction\n",
    "pred_xgb = model_xgb.predict(X_test)\n",
    "accuracy_xgb =accuracy_score(y_test,pred_lr)\n",
    "print('accuracy_score =', accuracy_xgb)\n",
    "print('confusion_matrix =\\n',confusion_matrix(y_test, pred_xgb))\n",
    "print('classification_report =\\n', classification_report(y_test, pred_xgb))\n"
   ]
  },
  {
   "cell_type": "code",
   "execution_count": null,
   "id": "ac12b3b9-57a0-41cb-a189-612d4a398e9e",
   "metadata": {},
   "outputs": [
    {
     "ename": "",
     "evalue": "",
     "output_type": "error",
     "traceback": [
      "\u001b[1;31mRunning cells with 'Python 3.11.9' requires the ipykernel package.\n",
      "\u001b[1;31mRun the following command to install 'ipykernel' into the Python environment. \n",
      "\u001b[1;31mCommand: 'c:/Users/Shivanikeshri/AppData/Local/Microsoft/WindowsApps/python3.11.exe -m pip install ipykernel -U --user --force-reinstall'"
     ]
    }
   ],
   "source": [
    "models = pd.DataFrame({\n",
    "    \"Model\" : [\"Logistic Regression\",\n",
    "                 \"Decision Tree\",\n",
    "                 \"Random Forest\",\n",
    "                 \"KNN\",\n",
    "                 \"SVM\",\n",
    "                 \"Adaboost\",\n",
    "                 \"XGboost\"],\n",
    "    \"Accuracy_score\" : [accuracy_lr, accuracy_dt, accuracy_rf, accuracy_knn,\n",
    "                          accuracy_svc, accuracy_adb, accuracy_xgb]\n",
    "})\n",
    "        "
   ]
  },
  {
   "cell_type": "code",
   "execution_count": null,
   "id": "c192d99b-4d89-4b00-88fb-72992459c33c",
   "metadata": {},
   "outputs": [
    {
     "ename": "",
     "evalue": "",
     "output_type": "error",
     "traceback": [
      "\u001b[1;31mRunning cells with 'Python 3.11.9' requires the ipykernel package.\n",
      "\u001b[1;31mRun the following command to install 'ipykernel' into the Python environment. \n",
      "\u001b[1;31mCommand: 'c:/Users/Shivanikeshri/AppData/Local/Microsoft/WindowsApps/python3.11.exe -m pip install ipykernel -U --user --force-reinstall'"
     ]
    }
   ],
   "source": [
    "models"
   ]
  },
  {
   "cell_type": "code",
   "execution_count": null,
   "id": "fdb8e06b-bfd0-4ee1-ad84-c5d94601f6ff",
   "metadata": {},
   "outputs": [
    {
     "ename": "",
     "evalue": "",
     "output_type": "error",
     "traceback": [
      "\u001b[1;31mRunning cells with 'Python 3.11.9' requires the ipykernel package.\n",
      "\u001b[1;31mRun the following command to install 'ipykernel' into the Python environment. \n",
      "\u001b[1;31mCommand: 'c:/Users/Shivanikeshri/AppData/Local/Microsoft/WindowsApps/python3.11.exe -m pip install ipykernel -U --user --force-reinstall'"
     ]
    }
   ],
   "source": [
    "sns.barplot(x = \"Accuracy_score\", y = \"Model\", data = models)\n",
    "models.sort_values (by =\"Accuracy_score\", ascending = False)"
   ]
  },
  {
   "cell_type": "markdown",
   "id": "7e5c99f6-155a-47aa-a7ed-dba2f68c7609",
   "metadata": {},
   "source": [
    "##### Best model is Random Forest with highest accuracy"
   ]
  },
  {
   "cell_type": "markdown",
   "id": "5150ecb0-5415-4d73-84e0-342a045ad3cf",
   "metadata": {},
   "source": [
    "### Hypertuning "
   ]
  },
  {
   "cell_type": "code",
   "execution_count": null,
   "id": "aef1090d-4231-4e67-b86f-31074553ee5d",
   "metadata": {},
   "outputs": [
    {
     "ename": "",
     "evalue": "",
     "output_type": "error",
     "traceback": [
      "\u001b[1;31mRunning cells with 'Python 3.11.9' requires the ipykernel package.\n",
      "\u001b[1;31mRun the following command to install 'ipykernel' into the Python environment. \n",
      "\u001b[1;31mCommand: 'c:/Users/Shivanikeshri/AppData/Local/Microsoft/WindowsApps/python3.11.exe -m pip install ipykernel -U --user --force-reinstall'"
     ]
    }
   ],
   "source": [
    "from sklearn.model_selection import GridSearchCV,RandomizedSearchCV\n",
    "from sklearn.model_selection import StratifiedKFold\n",
    "\n",
    "params_RF = {\"min_samples_split\": [2,6],\n",
    "             \"min_samples_leaf\":  [1,4],\n",
    "             \"n_estimators\" :[100,200,300],\n",
    "             \"criterion\":[\"gini\", 'entropy']\n",
    "            }\n",
    "cv_method = StratifiedKFold(n_splits = 3)\n",
    "GridSearchCV_RF = GridSearchCV(estimator = RandomForestClassifier(),\n",
    "                               param_grid = params_RF,\n",
    "                               cv = cv_method,\n",
    "                               verbose = 1,\n",
    "                               n_jobs = 2,\n",
    "                               scoring = \"accuracy\",\n",
    "                               return_train_score = True\n",
    "                              )\n",
    "GridSearchCV_RF.fit(X_train,y_train)\n",
    "best_params_RF = GridSearchCV_RF.best_params_\n",
    "print(\"Best hyperparameters for Random Forests are =\",best_params_RF)\n",
    "                               "
   ]
  },
  {
   "cell_type": "code",
   "execution_count": null,
   "id": "3db15a84-c647-4f49-90ed-8a3e53df7cf2",
   "metadata": {},
   "outputs": [
    {
     "ename": "",
     "evalue": "",
     "output_type": "error",
     "traceback": [
      "\u001b[1;31mRunning cells with 'Python 3.11.9' requires the ipykernel package.\n",
      "\u001b[1;31mRun the following command to install 'ipykernel' into the Python environment. \n",
      "\u001b[1;31mCommand: 'c:/Users/Shivanikeshri/AppData/Local/Microsoft/WindowsApps/python3.11.exe -m pip install ipykernel -U --user --force-reinstall'"
     ]
    }
   ],
   "source": [
    "best_estimator = GridSearchCV_RF.best_estimator_\n",
    "best_estimator.fit(X_train, y_train)\n",
    "y_pred_best = best_estimator.predict(X_test)\n",
    "print(classification_report(y_test, y_pred_best))"
   ]
  },
  {
   "cell_type": "code",
   "execution_count": null,
   "id": "3f2b751d-17d4-45b7-b041-bde2d6c7dc08",
   "metadata": {},
   "outputs": [
    {
     "ename": "",
     "evalue": "",
     "output_type": "error",
     "traceback": [
      "\u001b[1;31mRunning cells with 'Python 3.11.9' requires the ipykernel package.\n",
      "\u001b[1;31mRun the following command to install 'ipykernel' into the Python environment. \n",
      "\u001b[1;31mCommand: 'c:/Users/Shivanikeshri/AppData/Local/Microsoft/WindowsApps/python3.11.exe -m pip install ipykernel -U --user --force-reinstall'"
     ]
    }
   ],
   "source": [
    "print(f\"Accuracy of Random Forest Model = {round(accuracy_score(y_test, y_pred_best)*100,2)}%\")"
   ]
  },
  {
   "cell_type": "markdown",
   "id": "25957e4c-c3fb-406e-8e28-8d908d4b3267",
   "metadata": {},
   "source": [
    "# 6. Predictive system"
   ]
  },
  {
   "cell_type": "code",
   "execution_count": null,
   "id": "f1d46c83-8926-444e-b11d-754190398712",
   "metadata": {},
   "outputs": [
    {
     "ename": "",
     "evalue": "",
     "output_type": "error",
     "traceback": [
      "\u001b[1;31mRunning cells with 'Python 3.11.9' requires the ipykernel package.\n",
      "\u001b[1;31mRun the following command to install 'ipykernel' into the Python environment. \n",
      "\u001b[1;31mCommand: 'c:/Users/Shivanikeshri/AppData/Local/Microsoft/WindowsApps/python3.11.exe -m pip install ipykernel -U --user --force-reinstall'"
     ]
    }
   ],
   "source": [
    "df.columns"
   ]
  },
  {
   "cell_type": "code",
   "execution_count": null,
   "id": "c59cfcde-ca15-4342-9a7f-3986e0be3e07",
   "metadata": {},
   "outputs": [
    {
     "ename": "",
     "evalue": "",
     "output_type": "error",
     "traceback": [
      "\u001b[1;31mRunning cells with 'Python 3.11.9' requires the ipykernel package.\n",
      "\u001b[1;31mRun the following command to install 'ipykernel' into the Python environment. \n",
      "\u001b[1;31mCommand: 'c:/Users/Shivanikeshri/AppData/Local/Microsoft/WindowsApps/python3.11.exe -m pip install ipykernel -U --user --force-reinstall'"
     ]
    }
   ],
   "source": [
    "ph = int(input(\"Enter the ph value\"))\n",
    "Hardness = int(input(\"Enter the Hardness value\"))\n",
    "solids = int(input(\"Enter the solids value\"))\n",
    "chloramines = int(input(\"Enter the chloramines value\"))\n",
    "sulfate = int(input(\"Enter the sulfate value \"))\n",
    "conductivity = int(input(\"Enter the conductivity value\"))\n",
    "organic_carbon = int(input(\"Enter the organic_carbon value\"))\n",
    "trihalomethanes = int(input(\"enter the trihalomethanes value\"))\n",
    "turbidity = int(input(\"Enter the turbidity value\"))"
   ]
  },
  {
   "cell_type": "code",
   "execution_count": null,
   "id": "ffc3065a-cd90-478a-b1ae-1c44de1e6745",
   "metadata": {},
   "outputs": [
    {
     "ename": "",
     "evalue": "",
     "output_type": "error",
     "traceback": [
      "\u001b[1;31mRunning cells with 'Python 3.11.9' requires the ipykernel package.\n",
      "\u001b[1;31mRun the following command to install 'ipykernel' into the Python environment. \n",
      "\u001b[1;31mCommand: 'c:/Users/Shivanikeshri/AppData/Local/Microsoft/WindowsApps/python3.11.exe -m pip install ipykernel -U --user --force-reinstall'"
     ]
    }
   ],
   "source": [
    "input_data = [[ph, Hardness, solids,chloramines, sulfate, conductivity, organic_carbon,\n",
    "              trihalomethanes, turbidity]]"
   ]
  },
  {
   "cell_type": "code",
   "execution_count": null,
   "id": "bff79af0-8ef2-4d9f-853f-5677d9d06a08",
   "metadata": {},
   "outputs": [
    {
     "ename": "",
     "evalue": "",
     "output_type": "error",
     "traceback": [
      "\u001b[1;31mRunning cells with 'Python 3.11.9' requires the ipykernel package.\n",
      "\u001b[1;31mRun the following command to install 'ipykernel' into the Python environment. \n",
      "\u001b[1;31mCommand: 'c:/Users/Shivanikeshri/AppData/Local/Microsoft/WindowsApps/python3.11.exe -m pip install ipykernel -U --user --force-reinstall'"
     ]
    }
   ],
   "source": [
    "model_prediction = best_estimator.predict(input_data)\n",
    "model_prediction"
   ]
  },
  {
   "cell_type": "code",
   "execution_count": null,
   "id": "b1c1e933-d209-40b6-bcd8-6cd89f414f4c",
   "metadata": {},
   "outputs": [
    {
     "ename": "",
     "evalue": "",
     "output_type": "error",
     "traceback": [
      "\u001b[1;31mRunning cells with 'Python 3.11.9' requires the ipykernel package.\n",
      "\u001b[1;31mRun the following command to install 'ipykernel' into the Python environment. \n",
      "\u001b[1;31mCommand: 'c:/Users/Shivanikeshri/AppData/Local/Microsoft/WindowsApps/python3.11.exe -m pip install ipykernel -U --user --force-reinstall'"
     ]
    }
   ],
   "source": [
    "if model_prediction[0] == 0:\n",
    "    print(\"Water is not safe for consumption\")\n",
    "else:\n",
    "    print(\"Water is safe for consumption\")"
   ]
  },
  {
   "cell_type": "code",
   "execution_count": null,
   "id": "16e0ee90-af8b-42a9-af87-1ba1ce917d55",
   "metadata": {},
   "outputs": [
    {
     "ename": "",
     "evalue": "",
     "output_type": "error",
     "traceback": [
      "\u001b[1;31mRunning cells with 'Python 3.11.9' requires the ipykernel package.\n",
      "\u001b[1;31mRun the following command to install 'ipykernel' into the Python environment. \n",
      "\u001b[1;31mCommand: 'c:/Users/Shivanikeshri/AppData/Local/Microsoft/WindowsApps/python3.11.exe -m pip install ipykernel -U --user --force-reinstall'"
     ]
    }
   ],
   "source": []
  }
 ],
 "metadata": {
  "kernelspec": {
   "display_name": "Python 3 (ipykernel)",
   "language": "python",
   "name": "python3"
  },
  "language_info": {
   "codemirror_mode": {
    "name": "ipython",
    "version": 3
   },
   "file_extension": ".py",
   "mimetype": "text/x-python",
   "name": "python",
   "nbconvert_exporter": "python",
   "pygments_lexer": "ipython3",
   "version": "3.11.9"
  }
 },
 "nbformat": 4,
 "nbformat_minor": 5
}
